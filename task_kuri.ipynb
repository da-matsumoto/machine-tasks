{
  "nbformat": 4,
  "nbformat_minor": 0,
  "metadata": {
    "colab": {
      "name": "task_kuri.ipynb",
      "provenance": [],
      "authorship_tag": "ABX9TyOOxzZiN8Px2MVFJ1GfE2JV",
      "include_colab_link": true
    },
    "kernelspec": {
      "name": "python3",
      "display_name": "Python 3"
    },
    "language_info": {
      "name": "python"
    }
  },
  "cells": [
    {
      "cell_type": "markdown",
      "metadata": {
        "id": "view-in-github",
        "colab_type": "text"
      },
      "source": [
        "<a href=\"https://colab.research.google.com/github/da-matsumoto/machine-tasks/blob/tasks/task_kuri.ipynb\" target=\"_parent\"><img src=\"https://colab.research.google.com/assets/colab-badge.svg\" alt=\"Open In Colab\"/></a>"
      ]
    },
    {
      "cell_type": "code",
      "execution_count": 1,
      "metadata": {
        "colab": {
          "base_uri": "https://localhost:8080/",
          "height": 315
        },
        "id": "54ntdFNo2Vhx",
        "outputId": "914bf801-41bf-407e-e147-20e5e0d5b7e0"
      },
      "outputs": [
        {
          "output_type": "stream",
          "name": "stdout",
          "text": [
            "太陽系の体積を栗まんじゅうが占めるまでに445分かかる\n",
            "東京ドームの体積を栗まんじゅうが占めるまでに105分かかる\n"
          ]
        },
        {
          "output_type": "display_data",
          "data": {
            "image/png": "[encoded data removed]",
            "text/plain": [
              "<Figure size 432x288 with 2 Axes>"
            ]
          },
          "metadata": {
            "needs_background": "light"
          }
        }
      ],
      "source": [
        "import math\n",
        "import matplotlib.pyplot as plt\n",
        "plt.rcParams['font.family'] = 'IPAPGothic'\n",
        "\n",
        "\"\"\"\n",
        "栗まんじゅうの体積：100㎤\n",
        "太陽系の体積：4/3*math.pi*(465億光年 ** 3)\n",
        "参考：REPOLOG　ドラえもんから学ぶ！指数関数の恐ろしさ\n",
        "https://www.sekkachi.com/entry-bibin_consideration/\n",
        "\"\"\"\n",
        "\n",
        "def occupiedtime(objectvolume=100):\n",
        "  \"\"\"物体の体積を入力すると栗まんじゅうがバイバインを振りかけた後に何分後にいっぱいになるか出力する関数\n",
        "  Parameters\n",
        "  ----------\n",
        "  objectvolume:int\n",
        "    調べたい物体の体積(default:100㎦)\n",
        "  \n",
        "  Returns\n",
        "  -------\n",
        "  reachtime:int\n",
        "    調べたい物体の体積に到達する時間\n",
        "  \"\"\"\n",
        "  kurivolume = 100 / 100 / 1000\n",
        "  amountvolume = 0\n",
        "  counter = 0\n",
        "  reachtime = 0\n",
        "  interval = 5\n",
        "  elapsedtime = []\n",
        "  amountvolumelist = []\n",
        "\n",
        "  while True:\n",
        "    counter += 1\n",
        "    amountvolume = kurivolume * (2 ** counter)\n",
        "    elapsedtime += [counter * 5]\n",
        "    amountvolumelist += [amountvolume]\n",
        "    if amountvolume >= objectvolume:\n",
        "      reachtime = counter * interval\n",
        "      return reachtime, elapsedtime, amountvolumelist\n",
        "      break\n",
        "\n",
        "solarsystem_reachtime, solarsystem_elapsedtime, solarsystem_amountvolumelist = occupiedtime(46500000000 * 9500000000000)\n",
        "print(\"太陽系の体積を栗まんじゅうが占めるまでに{}分かかる\".format(solarsystem_reachtime))\n",
        "\n",
        "tokyodome_reachtime, tokyodome_elapsedtime, tokyodome_amountvolumelist = occupiedtime(1240000 / 1000)\n",
        "print(\"東京ドームの体積を栗まんじゅうが占めるまでに{}分かかる\".format(tokyodome_reachtime))\n",
        "\n",
        "fix, axes = plt.subplots(2)\n",
        "axes[0].plot(solarsystem_elapsedtime, solarsystem_amountvolumelist)\n",
        "axes[0].set_title(\"太陽系の体積に到達するまでの時間\")\n",
        "axes[1].plot(tokyodome_elapsedtime, tokyodome_amountvolumelist)\n",
        "axes[1].set_title(\"東京ドームの体積に到達するまでの時間\")\n",
        "plt.show()"
      ]
    }
  ]
}