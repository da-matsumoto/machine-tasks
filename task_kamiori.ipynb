{
  "nbformat": 4,
  "nbformat_minor": 0,
  "metadata": {
    "colab": {
      "name": "task-kamiori.ipynb",
      "provenance": [],
      "collapsed_sections": [],
      "authorship_tag": "ABX9TyMvk59JYAinSn1hUZmW6mhd",
      "include_colab_link": true
    },
    "kernelspec": {
      "name": "python3",
      "display_name": "Python 3"
    },
    "language_info": {
      "name": "python"
    }
  },
  "cells": [
    {
      "cell_type": "markdown",
      "metadata": {
        "id": "view-in-github",
        "colab_type": "text"
      },
      "source": [
        "<a href=\"https://colab.research.google.com/github/da-matsumoto/machine-tasks/blob/master/task_kamiori.ipynb\" target=\"_parent\"><img src=\"https://colab.research.google.com/assets/colab-badge.svg\" alt=\"Open In Colab\"/></a>"
      ]
    },
    {
      "cell_type": "code",
      "source": [
        "# 問題1\n",
        "THICKNESS = 0.00008\n",
        "\n",
        "folded_thickness = THICKNESS * (2 ** 43)\n",
        "print(\"厚さ：{}メートル\".format(folded_thickness))"
      ],
      "metadata": {
        "colab": {
          "base_uri": "https://localhost:8080/"
        },
        "id": "-c_ALQQsytFt",
        "outputId": "36c35c8d-24c4-4be1-892e-157750ed42ae"
      },
      "execution_count": null,
      "outputs": [
        {
          "output_type": "stream",
          "name": "stdout",
          "text": [
            "厚さ：703687441.77664メートル\n"
          ]
        }
      ]
    },
    {
      "cell_type": "code",
      "source": [
        "# 問題2\n",
        "import math\n",
        "THICKNESS = 0.00008\n",
        "\n",
        "folded_thickness = THICKNESS * (2 ** 43)\n",
        "print(\"厚さ：{}万{:.2f}キロメートル\".format(math.floor(folded_thickness / 10000000), (folded_thickness / 1000) - (math.floor(folded_thickness / 10000000)) * 10000))"
      ],
      "metadata": {
        "colab": {
          "base_uri": "https://localhost:8080/"
        },
        "id": "CaeXe7Bd5Y2j",
        "outputId": "18b385f8-9723-4924-a21a-5f73b45b5de7"
      },
      "execution_count": null,
      "outputs": [
        {
          "output_type": "stream",
          "name": "stdout",
          "text": [
            "厚さ：70万3687.44キロメートル\n"
          ]
        }
      ]
    },
    {
      "cell_type": "code",
      "source": [
        "# 問題3\n",
        "import math\n",
        "THICKNESS = 0.00008\n",
        "folded_thickness = THICKNESS\n",
        "\n",
        "for i in range(43):\n",
        "  folded_thickness = folded_thickness * 2\n",
        "  if i >= 42:\n",
        "    print(\"厚さ：{}万{:.2f}キロメートル\".format(math.floor(folded_thickness / 10000000), (folded_thickness / 1000) - (math.floor(folded_thickness / 10000000)) * 10000))\n"
      ],
      "metadata": {
        "colab": {
          "base_uri": "https://localhost:8080/"
        },
        "id": "i_Q4oadQ5-Rd",
        "outputId": "02278bae-812f-44e4-88d7-8b5814b3e914"
      },
      "execution_count": null,
      "outputs": [
        {
          "output_type": "stream",
          "name": "stdout",
          "text": [
            "厚さ：70万3687.44キロメートル\n"
          ]
        }
      ]
    },
    {
      "cell_type": "code",
      "source": [
        "# 問題4\n",
        "import math\n",
        "import time\n",
        "THICKNESS = 0.00008\n",
        "FOLDNUM = 430\n",
        "start = time.time()\n",
        "\n",
        "folded_thickness = THICKNESS * (2 ** FOLDNUM)\n",
        "print(\"厚さ：{}万{:.2f}キロメートル\".format(math.floor(folded_thickness / 10000000), (folded_thickness / 1000) - (math.floor(folded_thickness / 10000000)) * 10000))\n",
        "elapsed_time = time.time() - start\n",
        "print(\"time:{}[s]\".format(elapsed_time))"
      ],
      "metadata": {
        "colab": {
          "base_uri": "https://localhost:8080/"
        },
        "id": "WT6tVbWxA3yE",
        "outputId": "00973d7c-d172-4d06-fc4c-2b2b7be5f3a0"
      },
      "execution_count": null,
      "outputs": [
        {
          "output_type": "stream",
          "name": "stdout",
          "text": [
            "厚さ：22181357552966522909975337304465096068615996687226645521671978162729742289793990582755282196385144479720134638141702144万-36695977855841144185773134324833391052745039826692497979801421430190766017415756929120296849762010984873984.00キロメートル\n",
            "time:0.00024056434631347656[s]\n"
          ]
        }
      ]
    },
    {
      "cell_type": "code",
      "source": [
        "# 問題4\n",
        "import math\n",
        "import time\n",
        "THICKNESS = 0.00008\n",
        "folded_thickness = THICKNESS\n",
        "FOLDNUM = 430\n",
        "start = time.time()\n",
        "\n",
        "for i in range(FOLDNUM):\n",
        "  folded_thickness = folded_thickness * 2\n",
        "  if i >= FOLDNUM - 1:\n",
        "    print(\"厚さ：{}万{:.2f}キロメートル\".format(math.floor(folded_thickness / 10000000), (folded_thickness / 1000) - (math.floor(folded_thickness / 10000000)) * 10000))\n",
        "    elapsed_time = time.time() -start\n",
        "    print(\"time:{}[s]\".format(elapsed_time))"
      ],
      "metadata": {
        "colab": {
          "base_uri": "https://localhost:8080/"
        },
        "id": "uUtWLXc7BZYE",
        "outputId": "9c016502-89ac-45ca-e279-f08f0457491b"
      },
      "execution_count": null,
      "outputs": [
        {
          "output_type": "stream",
          "name": "stdout",
          "text": [
            "厚さ：22181357552966522909975337304465096068615996687226645521671978162729742289793990582755282196385144479720134638141702144万-36695977855841144185773134324833391052745039826692497979801421430190766017415756929120296849762010984873984.00キロメートル\n",
            "time:0.0023298263549804688[s]\n"
          ]
        }
      ]
    },
    {
      "cell_type": "code",
      "source": [
        "# 問題5\n",
        "import math\n",
        "THICKNESS = 0.00008\n",
        "FOLDNUM = 43\n",
        "amountlist = []\n",
        "\n",
        "for i in range(FOLDNUM):\n",
        "  folded_thickness = THICKNESS * (2 ** (i+1))\n",
        "  amountlist += [folded_thickness]\n",
        "\n",
        "print(amountlist)"
      ],
      "metadata": {
        "colab": {
          "base_uri": "https://localhost:8080/"
        },
        "id": "qB2gFGZfDPdF",
        "outputId": "828f2c84-366e-4ad9-c319-26dba2fdb2be"
      },
      "execution_count": null,
      "outputs": [
        {
          "output_type": "stream",
          "name": "stdout",
          "text": [
            "[0.00016, 0.00032, 0.00064, 0.00128, 0.00256, 0.00512, 0.01024, 0.02048, 0.04096, 0.08192, 0.16384, 0.32768, 0.65536, 1.31072, 2.62144, 5.24288, 10.48576, 20.97152, 41.94304, 83.88608, 167.77216, 335.54432, 671.08864, 1342.17728, 2684.35456, 5368.70912, 10737.41824, 21474.83648, 42949.67296, 85899.34592, 171798.69184, 343597.38368, 687194.76736, 1374389.53472, 2748779.06944, 5497558.13888, 10995116.27776, 21990232.55552, 43980465.11104, 87960930.22208, 175921860.44416, 351843720.88832, 703687441.77664]\n"
          ]
        }
      ]
    },
    {
      "cell_type": "code",
      "source": [
        "# 問題6\n",
        "import math\n",
        "import matplotlib.pyplot as plt\n",
        "%matplotlib inline\n",
        "\n",
        "THICKNESS = 0.00008\n",
        "FOLDNUM = 43\n",
        "amountlist = []\n",
        "\n",
        "for i in range(FOLDNUM):\n",
        "  folded_thickness = THICKNESS * (2 ** (i+1))\n",
        "  amountlist += [folded_thickness]\n",
        "\n",
        "plt.title(\"thickness of folded paper\")\n",
        "plt.xlabel(\"number of folds\")\n",
        "plt.ylabel(\"thickness [m]\")\n",
        "plt.plot(amountlist)\n",
        "plt.show()"
      ],
      "metadata": {
        "colab": {
          "base_uri": "https://localhost:8080/",
          "height": 295
        },
        "id": "POEiS2nWEevI",
        "outputId": "ca742c8e-3b9a-42c0-f39b-6743ac3bd8f7"
      },
      "execution_count": null,
      "outputs": [
        {
          "output_type": "display_data",
          "data": {
            "image/png": "[encoded data removed]",
            "text/plain": [
              "<Figure size 432x288 with 1 Axes>"
            ]
          },
          "metadata": {
            "needs_background": "light"
          }
        }
      ]
    },
    {
      "cell_type": "code",
      "source": [
        "# 問題7\n",
        "import math\n",
        "import matplotlib.pyplot as plt\n",
        "%matplotlib inline\n",
        "\n",
        "THICKNESS = 0.00008\n",
        "FOLDNUM = 43\n",
        "amountlist = []\n",
        "foldlist = []\n",
        "\n",
        "for i in range(FOLDNUM):\n",
        "  folded_thickness = THICKNESS * (2 ** (i+1))\n",
        "  foldlist += [i+1]\n",
        "  amountlist += [folded_thickness]\n",
        "\n",
        "fig, axes = plt.subplots(2, 2)\n",
        "axes[0][0].plot(foldlist, amountlist)\n",
        "axes[1][0].plot(foldlist, amountlist, color=\"red\")\n",
        "axes[0][1].plot(foldlist, amountlist, color=\"green\", marker=\"o\", markersize=4)\n",
        "axes[1][1].plot(foldlist, amountlist, linestyle=\"dashed\")\n",
        "plt.show()"
      ],
      "metadata": {
        "colab": {
          "base_uri": "https://localhost:8080/",
          "height": 276
        },
        "id": "PiSuimW7FUiQ",
        "outputId": "5db00711-e782-4b8c-bdb8-adb23cad5b0e"
      },
      "execution_count": null,
      "outputs": [
        {
          "output_type": "display_data",
          "data": {
            "image/png": "[encoded data removed]",
            "text/plain": [
              "<Figure size 432x288 with 4 Axes>"
            ]
          },
          "metadata": {
            "needs_background": "light"
          }
        }
      ]
    }
  ]
}