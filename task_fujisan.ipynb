{
  "nbformat": 4,
  "nbformat_minor": 0,
  "metadata": {
    "colab": {
      "name": "task_fujisan.ipynb",
      "provenance": [],
      "authorship_tag": "ABX9TyMoGS8VaBKjgnn3ggR/RBAT",
      "include_colab_link": true
    },
    "kernelspec": {
      "name": "python3",
      "display_name": "Python 3"
    },
    "language_info": {
      "name": "python"
    }
  },
  "cells": [
    {
      "cell_type": "markdown",
      "metadata": {
        "id": "view-in-github",
        "colab_type": "text"
      },
      "source": [
        "<a href=\"https://colab.research.google.com/github/da-matsumoto/machine-tasks/blob/tasks/task_fujisan.ipynb\" target=\"_parent\"><img src=\"https://colab.research.google.com/assets/colab-badge.svg\" alt=\"Open In Colab\"/></a>"
      ]
    },
    {
      "cell_type": "code",
      "execution_count": 1,
      "metadata": {
        "colab": {
          "base_uri": "https://localhost:8080/"
        },
        "id": "HDaYWrVliKNk",
        "outputId": "59d308d7-0d37-467b-f2f3-3beaa6891d96"
      },
      "outputs": [
        {
          "output_type": "stream",
          "name": "stdout",
          "text": [
            "富士山の高さを超えるには25回折る必要がある\n"
          ]
        }
      ],
      "source": [
        "# 問題1\n",
        "THICKNESS = 0.00008\n",
        "height_fuji = 3776\n",
        "amount = 0\n",
        "counter = 0\n",
        "\n",
        "while True:\n",
        "  counter += 1\n",
        "  amount = THICKNESS * (2 ** counter)\n",
        "  if amount >= height_fuji:\n",
        "    counter -= 1\n",
        "    print(\"富士山の高さを超えるには{}回折る必要がある\".format(counter))\n",
        "    break"
      ]
    },
    {
      "cell_type": "code",
      "source": [
        "# 問題2\n",
        "def fold_paper(paperthickness=0.0008, needheight=3776):\n",
        "  \"\"\"高さと紙の厚さを入力するとそれに到達する折り畳み回数が出力される関数\n",
        "  Parameters\n",
        "  ----------\n",
        "  paperthickness:int\n",
        "    紙の厚さ(default:0.0008)\n",
        "  needheight:int\n",
        "    到達したい高さ(default:3776)\n",
        "\n",
        "  Returns\n",
        "  -------\n",
        "  counter:int\n",
        "    到達するのに必要な折り畳み回数\n",
        "  \n",
        "  \"\"\"\n",
        "  amount = 0\n",
        "  counter = 0\n",
        "\n",
        "  while True:\n",
        "    counter += 1\n",
        "    amount = paperthickness * (2 ** counter)\n",
        "    if amount >= needheight:\n",
        "      counter -= 1\n",
        "      return counter\n",
        "      break\n",
        "\"\"\"\n",
        "プロキシマケンタウリと地球の距離：4.2光年\n",
        "1光年:9兆5000億km\n",
        "\"\"\"\n",
        "counter = fold_paper(0.00008, (9500000000000 * 1000))\n",
        "print(\"プロキシマケンタウリに到達するには{}回折る必要がある\".format(counter))"
      ],
      "metadata": {
        "colab": {
          "base_uri": "https://localhost:8080/"
        },
        "id": "UrnJ369AiW4Q",
        "outputId": "9c225ffc-81fe-4e6d-9318-19cd4a455b4c"
      },
      "execution_count": 2,
      "outputs": [
        {
          "output_type": "stream",
          "name": "stdout",
          "text": [
            "プロキシマケンタウリに到達するには66回折る必要がある\n"
          ]
        }
      ]
    },
    {
      "cell_type": "code",
      "source": [
        "# 問題3\n",
        "import math\n",
        "\n",
        "\"\"\"\n",
        "紙の長さ:(math.pi * 厚さ) / 6 * (2 ** n + 4) * (2 ** n - 1)\n",
        "\"\"\"\n",
        "THICKNESS = 0.00008\n",
        "\n",
        "def output_paperlength(needheight=3776):\n",
        "  \"\"\"到達したいものまでの距離を入力すると必要な紙の長さが出力される関数\n",
        "  Parameters\n",
        "  ----------\n",
        "  needheight:int\n",
        "    到達したい高さ(default:3776)\n",
        "\n",
        "  Returns\n",
        "  -------\n",
        "  paperlength:int\n",
        "    紙の長さ\n",
        "\n",
        "  \"\"\"\n",
        "  amount = 0\n",
        "  counter = 0\n",
        "  paperlength = 0\n",
        "\n",
        "  while True:\n",
        "    counter += 1\n",
        "    amount = THICKNESS * (2 ** counter)\n",
        "    if amount > needheight:\n",
        "      counter -= 1\n",
        "      break\n",
        "  \n",
        "  paperlength = (math.pi * THICKNESS) / 6 * (2 ** counter + 4) * (2 ** counter - 1)\n",
        "  return paperlength\n",
        "  \n",
        "print(\"富士山の高さに到達するには{}mの長さの紙が必要\".format(output_paperlength(3776)))\n",
        "print(\"月の高さに到達するには{}mの長さの紙が必要\".format(output_paperlength(384400 * 1000)))\n",
        "print(\"プロキシマケンタウリの高さに到達するには{}mの長さの紙が必要\".format(output_paperlength(9500000000000 * 1000)))\n"
      ],
      "metadata": {
        "colab": {
          "base_uri": "https://localhost:8080/"
        },
        "id": "1EnyJ6-PibCu",
        "outputId": "56e635ca-5879-42c0-ff28-8d807d6a2ef4"
      },
      "execution_count": 3,
      "outputs": [
        {
          "output_type": "stream",
          "name": "stdout",
          "text": [
            "富士山の高さに到達するには47161589230.09706mの長さの紙が必要\n",
            "月の高さに到達するには8.102298610429716e+20mの長さの紙が必要\n",
            "プロキシマケンタウリの高さに到達するには2.2805943126719294e+35mの長さの紙が必要\n"
          ]
        }
      ]
    }
  ]
}