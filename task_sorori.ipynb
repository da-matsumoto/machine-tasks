{
  "nbformat": 4,
  "nbformat_minor": 0,
  "metadata": {
    "colab": {
      "name": "task_sorori.ipynb",
      "provenance": [],
      "authorship_tag": "ABX9TyMa+2AaPf4wplbqeYxPIRx3",
      "include_colab_link": true
    },
    "kernelspec": {
      "name": "python3",
      "display_name": "Python 3"
    },
    "language_info": {
      "name": "python"
    }
  },
  "cells": [
    {
      "cell_type": "markdown",
      "metadata": {
        "id": "view-in-github",
        "colab_type": "text"
      },
      "source": [
        "<a href=\"https://colab.research.google.com/github/da-matsumoto/machine-tasks/blob/tasks/task_sorori.ipynb\" target=\"_parent\"><img src=\"https://colab.research.google.com/assets/colab-badge.svg\" alt=\"Open In Colab\"/></a>"
      ]
    },
    {
      "cell_type": "code",
      "execution_count": 1,
      "metadata": {
        "colab": {
          "base_uri": "https://localhost:8080/",
          "height": 323
        },
        "id": "1VjZE2YzKTS0",
        "outputId": "475d28c3-d28d-45e6-fd8f-ce9ed280ca26"
      },
      "outputs": [
        {
          "output_type": "stream",
          "name": "stdout",
          "text": [
            "100日の合計：1267650600228229401496703205375\n"
          ]
        },
        {
          "output_type": "display_data",
          "data": {
            "image/png": "[encoded data removed]",
            "text/plain": [
              "<Figure size 432x288 with 1 Axes>"
            ]
          },
          "metadata": {
            "needs_background": "light"
          }
        }
      ],
      "source": [
        "# 問題1\n",
        "import matplotlib.pyplot as plt\n",
        "plt.rcParams['font.family'] = 'IPAPGothic'\n",
        "\n",
        "amount = 0\n",
        "x = []\n",
        "y = []\n",
        "\n",
        "for i in range(100):\n",
        "  amount += 2**i\n",
        "  x += [i + 1]\n",
        "  y += [amount]\n",
        "\n",
        "print(\"100日の合計：{}\".format(amount))\n",
        "\n",
        "fig, ax = plt.subplots()\n",
        "ax.plot(x, y)\n",
        "fig.suptitle('米粒の数の推移')\n",
        "ax.set_xlabel('日数')\n",
        "ax.set_ylabel('米粒の数')\n",
        "plt.show()"
      ]
    },
    {
      "cell_type": "code",
      "source": [
        "# 問題2\n",
        "import matplotlib.pyplot as plt\n",
        "plt.rcParams['font.family'] = 'IPAPGothic'\n",
        "\n",
        "def compute_sorori_shinzaemon(n_days=100):\n",
        "  \"\"\"曽呂利新左衛門のコメの逸話における日にちごとの米粒の数を計算する関数\n",
        "  Parameters\n",
        "  ----------\n",
        "  n_days: int\n",
        "    米を貰う日数(default: 100)\n",
        "  \n",
        "  Returns\n",
        "  list_n_grains: list\n",
        "    ある日に貰う米の数のリスト（リストの長さはn_daysに等しい）\n",
        "  list_total_grains: list\n",
        "    ある日までに累計で貰う米の数のリスト（リストの長さはn_daysに等しい）\n",
        "  \"\"\"\n",
        "  getnumber = 0\n",
        "  amountnumber = 0\n",
        "  list_n_grains = []\n",
        "  list_total_grains = []\n",
        "\n",
        "  for i in range(n_days):\n",
        "    getnumber = 2**i\n",
        "    amountnumber += getnumber\n",
        "    list_n_grains += [getnumber]\n",
        "    list_total_grains += [amountnumber]\n",
        "\n",
        "  return list_n_grains, list_total_grains\n",
        "\n",
        "list_n_grains, list_total_grains = compute_sorori_shinzaemon(n_days=10)\n",
        "print(\"10日目には{}粒米をもらい、合計は{}粒\".format(list_n_grains[9], list_total_grains[9]))\n",
        "\n",
        "days = []\n",
        "for i in range(len(list_total_grains)):\n",
        "  days += [i+1]\n",
        "\n",
        "fig, ax = plt.subplots()\n",
        "ax.plot(days, list_total_grains)\n",
        "fig.suptitle('米粒の数の推移')\n",
        "ax.set_xlabel('日数')\n",
        "ax.set_ylabel('米粒の数')\n",
        "plt.show()\n"
      ],
      "metadata": {
        "colab": {
          "base_uri": "https://localhost:8080/",
          "height": 323
        },
        "id": "WoKSG99AK9dg",
        "outputId": "dffd5a2e-b498-4871-e61b-e79f208ea7d3"
      },
      "execution_count": 4,
      "outputs": [
        {
          "output_type": "stream",
          "name": "stdout",
          "text": [
            "10日目には512粒米をもらい、合計は1023粒\n"
          ]
        },
        {
          "output_type": "display_data",
          "data": {
            "image/png": "[encoded data removed]",
            "text/plain": [
              "<Figure size 432x288 with 1 Axes>"
            ]
          },
          "metadata": {
            "needs_background": "light"
          }
        }
      ]
    },
    {
      "cell_type": "code",
      "source": [
        "# 問題3\n",
        "\"\"\"\n",
        "  一日の平均のお米の消費量:1.5-2合\n",
        "  出典：「お米のくりや」ブログ\n",
        "  https://kuriya.co.jp/blog/other/20181127-823.html#:~:text=%E4%B8%80%E4%BA%BA%E6%9A%AE%E3%82%89%E3%81%97%E3%81%AE%E5%A0%B4%E5%90%88%E3%81%AE%E4%B8%80%E6%97%A5%E5%B9%B3%E5%9D%87%E3%81%A7%E3%81%AE%E3%81%8A,%E3%81%AE%E3%81%94%E9%A3%AF%E3%81%8C%E5%BF%85%E8%A6%81%E3%81%A7%E3%81%99%E3%80%82\n",
        "  米1合は7,764粒\n",
        "  出典：数の奴隷\n",
        "  https://kazudorei.hatenablog.com/entry/2015/01/24/133455\n",
        "\n",
        "  上記から一人が一日に必要な米の量は11,646粒\n",
        "\"\"\"\n",
        "\n",
        "def days_can_live(ricenum=20000, numpeople= 1):\n",
        "  \"\"\"米の量と人数に対して人が何日生活できるか出力する関数\n",
        "  Parameters\n",
        "  ----------\n",
        "  ricenum: int\n",
        "    米の量（粒）(default: 20000)\n",
        "  numpeople: int\n",
        "    人の数（人）(default: 1)\n",
        "  \n",
        "  Returns\n",
        "  lifetimelimit: int\n",
        "    生活できる日数\n",
        "  \"\"\"\n",
        "  needed_rice_per_day = 11646\n",
        "  needed_rice_total = needed_rice_per_day * numpeople\n",
        "  lifetimelimit = ricenum / needed_rice_total\n",
        "\n",
        "  return lifetimelimit\n",
        "\n",
        "print(\"{}粒の米があれば{}人は{}日生活できる\".format(100000, 2, round(days_can_live(100000, 2))))\n"
      ],
      "metadata": {
        "colab": {
          "base_uri": "https://localhost:8080/"
        },
        "id": "BFedUye4LMN3",
        "outputId": "002bdc59-5008-4cae-9526-31f6df8ed1e7"
      },
      "execution_count": 5,
      "outputs": [
        {
          "output_type": "stream",
          "name": "stdout",
          "text": [
            "100000粒の米があれば2人は4日生活できる\n"
          ]
        }
      ]
    }
  ]
}